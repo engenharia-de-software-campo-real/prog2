{
 "cells": [
  {
   "cell_type": "markdown",
   "metadata": {},
   "source": [
    "# Hello World\n",
    "O seu primeiro programa em qualquer linguagem de programação normalmente é o \"Hello World!\". Neste primeiro problema tudo o que você precisa fazer é imprimir esta mensagem na tela.\n",
    "\n",
    "## Entrada\n",
    "Este problema não possui nenhuma entrada.\n",
    "\n",
    "## Saída\n",
    "Você deve imprimir a mensagem \"Hello World!\" e em seguida o final de linha, conforme o exemplo abaixo."
   ]
  },
  {
   "cell_type": "code",
   "execution_count": 1,
   "metadata": {},
   "outputs": [
    {
     "name": "stdout",
     "output_type": "stream",
     "text": [
      "Hello World!\n"
     ]
    }
   ],
   "source": [
    "print(\"Hello World!\")"
   ]
  },
  {
   "cell_type": "markdown",
   "metadata": {},
   "source": [
    "# Extremamente Básico\n",
    "\n",
    "Leia 2 valores inteiros e armazene-os nas variáveis A e B. Efetue a soma de A e B atribuindo o seu resultado na variável X. Imprima X conforme exemplo apresentado abaixo. Não apresente mensagem alguma além daquilo que está sendo especificado e não esqueça de imprimir o fim de linha após o resultado, caso contrário, você receberá \"Presentation Error\".\n",
    "\n",
    "## Entrada\n",
    "A entrada contém 2 valores inteiros.\n",
    "\n",
    "## Saída\n",
    "Imprima a mensagem \"X = \" (letra X maiúscula) seguido pelo valor da variável X e pelo final de linha. Cuide para que tenha um espaço antes e depois do sinal de igualdade, conforme o exemplo abaixo."
   ]
  },
  {
   "cell_type": "code",
   "execution_count": 1,
   "metadata": {},
   "outputs": [
    {
     "name": "stdout",
     "output_type": "stream",
     "text": [
      "X = 24\n"
     ]
    }
   ],
   "source": [
    "A = int(input(\"Digite o primeiro numero inteiro: \"))\n",
    "B = int(input(\"Digite o segundo numero inteiro: \"))\n",
    "\n",
    "X = A + B\n",
    "\n",
    "print(\"X =\", X)"
   ]
  },
  {
   "cell_type": "markdown",
   "metadata": {},
   "source": [
    "# Área do Círculo\n",
    "\n",
    "A fórmula para calcular a área de uma circunferência é: area = π . raio2. Considerando para este problema que π = 3.14159:\n",
    "\n",
    "- Efetue o cálculo da área, elevando o valor de raio ao quadrado e multiplicando por π.\n",
    "\n",
    "## Entrada\n",
    "A entrada contém um valor de ponto flutuante (dupla precisão), no caso, a variável raio.\n",
    "\n",
    "## Saída\n",
    "Apresentar a mensagem \"A=\" seguido pelo valor da variável area, conforme exemplo abaixo, com 4 casas após o ponto decimal. Utilize variáveis de dupla precisão (double). Como todos os problemas, não esqueça de imprimir o fim de linha após o resultado, caso contrário, você receberá \"Presentation Error\"."
   ]
  },
  {
   "cell_type": "code",
   "execution_count": 6,
   "metadata": {},
   "outputs": [
    {
     "name": "stdout",
     "output_type": "stream",
     "text": [
      "A área do círculo é:  12.5664\n"
     ]
    }
   ],
   "source": [
    "pi = 3.14159\n",
    "Raio = float(input(\"Digite o raio: \"))\n",
    "\n",
    "A = pi * (Raio * Raio)\n",
    "\n",
    "print(\"A área do círculo é: \", round(A, 4))"
   ]
  },
  {
   "cell_type": "markdown",
   "metadata": {},
   "source": [
    "# Soma Simples\n",
    "\n",
    "Leia dois valores inteiros, no caso para variáveis A e B. A seguir, calcule a soma entre elas e atribua à variável SOMA. A seguir escrever o valor desta variável.\n",
    "\n",
    "## Entrada\n",
    "O arquivo de entrada contém 2 valores inteiros.\n",
    "\n",
    "## Saída\n",
    "Imprima a mensagem \"SOMA\" com todas as letras maiúsculas, com um espaço em branco antes e depois da igualdade seguido pelo valor correspondente à soma de A e B. Como todos os problemas, não esqueça de imprimir o fim de linha após o resultado, caso contrário, você receberá \"Presentation Error\"."
   ]
  },
  {
   "cell_type": "code",
   "execution_count": 12,
   "metadata": {},
   "outputs": [
    {
     "name": "stdout",
     "output_type": "stream",
     "text": [
      "SOMA =  30\n"
     ]
    }
   ],
   "source": [
    "A = int(input(\"Digite o primeiro numero inteiro: \"))\n",
    "B = int(input(\"Digite o segundo numero inteiro: \"))\n",
    "\n",
    "SOMA = A + B\n",
    "\n",
    "print(\"SOMA = \",SOMA)"
   ]
  },
  {
   "cell_type": "markdown",
   "metadata": {},
   "source": [
    "# Produto Simples\n",
    "\n",
    "Leia dois valores inteiros. A seguir, calcule o produto entre estes dois valores e atribua esta operação à variável PROD. A seguir mostre a variável PROD com mensagem correspondente.   \n",
    "\n",
    "## Entrada\n",
    "O arquivo de entrada contém 2 valores inteiros.\n",
    "\n",
    "## Saída\n",
    "Imprima a mensagem \"PROD\" e a variável PROD conforme exemplo abaixo, com um espaço em branco antes e depois da igualdade. Não esqueça de imprimir o fim de linha após o produto, caso contrário seu programa apresentará a mensagem: “Presentation Error”."
   ]
  },
  {
   "cell_type": "code",
   "execution_count": 14,
   "metadata": {},
   "outputs": [
    {
     "name": "stdout",
     "output_type": "stream",
     "text": [
      "PROD =  100\n"
     ]
    }
   ],
   "source": [
    "A = int(input(\"Digite o primeiro numero inteiro: \"))\n",
    "B = int(input(\"Digite o segundo numero inteiro: \"))\n",
    "\n",
    "PROD = A * B\n",
    "\n",
    "print(\"PROD = \",PROD)"
   ]
  },
  {
   "cell_type": "markdown",
   "metadata": {},
   "source": [
    "# Média 01\n",
    "\n",
    "Leia 2 valores de ponto flutuante de dupla precisão A e B, que correspondem a 2 notas de um aluno. A seguir, calcule a média do aluno, sabendo que a nota A tem peso 3.5 e a nota B tem peso 7.5 (A soma dos pesos portanto é 11). Assuma que cada nota pode ir de 0 até 10.0, sempre com uma casa decimal.\n",
    "\n",
    "## Entrada\n",
    "O arquivo de entrada contém 2 valores com uma casa decimal cada um.\n",
    "\n",
    "## Saída\n",
    "Imprima a mensagem \"MEDIA\" e a média do aluno conforme exemplo abaixo, com 5 dígitos após o ponto decimal e com um espaço em branco antes e depois da igualdade. Utilize variáveis de dupla precisão (double) e como todos os problemas, não esqueça de imprimir o fim de linha após o resultado, caso contrário, você receberá \"Presentation Error\"."
   ]
  },
  {
   "cell_type": "code",
   "execution_count": 16,
   "metadata": {},
   "outputs": [
    {
     "name": "stdout",
     "output_type": "stream",
     "text": [
      "MEDIA =  2.0\n"
     ]
    }
   ],
   "source": [
    "A = float(input(\"Digite a primeira nota: \"))\n",
    "B = float(input(\"Digite a segunda nota: \"))\n",
    "\n",
    "MEDIA = ((A * 3.5) + (B * 7.5)) / 11\n",
    "\n",
    "print(\"MEDIA = \", round(MEDIA, 5))"
   ]
  },
  {
   "cell_type": "markdown",
   "metadata": {},
   "source": [
    "# Média 02\n",
    "\n",
    "Leia 3 valores, no caso, variáveis A, B e C, que são as três notas de um aluno. A seguir, calcule a média do aluno, sabendo que a nota A tem peso 2, a nota B tem peso 3 e a nota C tem peso 5. Considere que cada nota pode ir de 0 até 10.0, sempre com uma casa decimal.\n",
    "\n",
    "## Entrada\n",
    "O arquivo de entrada contém 3 valores com uma casa decimal, de dupla precisão (double).\n",
    "\n",
    "## Saída\n",
    "Imprima a mensagem \"MEDIA\" e a média do aluno conforme exemplo abaixo, com 1 dígito após o ponto decimal e com um espaço em branco antes e depois da igualdade. Assim como todos os problemas, não esqueça de imprimir o fim de linha após o resultado, caso contrário, você receberá \"Presentation Error\"."
   ]
  },
  {
   "cell_type": "code",
   "execution_count": 18,
   "metadata": {},
   "outputs": [
    {
     "name": "stdout",
     "output_type": "stream",
     "text": [
      "MEDIA =  10.0\n"
     ]
    }
   ],
   "source": [
    "A = float(input(\"Digite a primeira nota: \"))\n",
    "B = float(input(\"Digite a segunda nota: \"))\n",
    "C = float(input(\"Digite a terceira nota: \"))\n",
    "\n",
    "MEDIA = ((A*2) + (B*3) + (C*5))/10\n",
    "\n",
    "print(\"MEDIA = \", round(MEDIA, 1))\n"
   ]
  },
  {
   "cell_type": "markdown",
   "metadata": {},
   "source": [
    "# Diferença\n",
    "\n",
    "Leia quatro valores inteiros A, B, C e D. A seguir, calcule e mostre a diferença do produto de A e B pelo produto de C e D segundo a fórmula: DIFERENCA = (A * B - C * D).\n",
    "\n",
    "## Entrada\n",
    "O arquivo de entrada contém 4 valores inteiros.\n",
    "\n",
    "## Saída\n",
    "Imprima a mensagem DIFERENCA com todas as letras maiúsculas, conforme exemplo abaixo, com um espaço em branco antes e depois da igualdade."
   ]
  },
  {
   "cell_type": "code",
   "execution_count": 19,
   "metadata": {},
   "outputs": [
    {
     "name": "stdout",
     "output_type": "stream",
     "text": [
      "DIFERENCA =  -1\n"
     ]
    }
   ],
   "source": [
    "A = int(input(\"Digite o primeiro numero inteiro: \"))\n",
    "B = int(input(\"Digite o segundo numero inteiro: \"))\n",
    "C = int(input(\"Digite o terceiro numero inteiro: \"))\n",
    "D = int(input(\"Digite o quarto numero inteiro: \"))\n",
    "\n",
    "DIFERENCA = ((A * B) - (C * D))\n",
    "\n",
    "print(\"DIFERENCA = \", DIFERENCA)"
   ]
  },
  {
   "cell_type": "markdown",
   "metadata": {},
   "source": [
    "# Salário\n",
    "\n",
    "Escreva um programa que leia o número de um funcionário, seu número de horas trabalhadas, o valor que recebe por hora e calcula o salário desse funcionário. A seguir, mostre o número e o salário do funcionário, com duas casas decimais.\n",
    "\n",
    "## Entrada\n",
    "O arquivo de entrada contém 2 números inteiros e 1 número com duas casas decimais, representando o número, quantidade de horas trabalhadas e o valor que o funcionário recebe por hora trabalhada, respectivamente.\n",
    "\n",
    "## Saída\n",
    "Imprima o número e o salário do funcionário, conforme exemplo fornecido, com um espaço em branco antes e depois da igualdade. No caso do salário, também deve haver um espaço em branco após o $."
   ]
  },
  {
   "cell_type": "code",
   "execution_count": 21,
   "metadata": {},
   "outputs": [
    {
     "name": "stdout",
     "output_type": "stream",
     "text": [
      "O funcionario de identificacao: 15 recebera R$: 225.00\n"
     ]
    }
   ],
   "source": [
    "identi = int(input(\"Digite o numero de identificacao do funcionario: \"))\n",
    "horast = int(input(\"Informe as horas trabalhadas: \"))\n",
    "valorh = float(input(\"Informe o valor da hora trabalhada: \"))\n",
    "\n",
    "salario = horast * valorh\n",
    "\n",
    "print(\"O funcionario de identificacao: %d recebera R$: %.2f\" %(identi, round(salario, 2)))"
   ]
  },
  {
   "cell_type": "markdown",
   "metadata": {},
   "source": [
    "# Salário com Bonus\n",
    "\n",
    "Faça um programa que leia o nome de um vendedor, o seu salário fixo e o total de vendas efetuadas por ele no mês (em dinheiro). Sabendo que este vendedor ganha 15% de comissão sobre suas vendas efetuadas, informar o total a receber no final do mês, com duas casas decimais.\n",
    "\n",
    "## Entrada\n",
    "O arquivo de entrada contém um texto (primeiro nome do vendedor) e 2 valores de dupla precisão (double) com duas casas decimais, representando o salário fixo do vendedor e montante total das vendas efetuadas por este vendedor, respectivamente.\n",
    "\n",
    "## Saída\n",
    "Imprima o total que o funcionário deverá receber, conforme exemplo fornecido."
   ]
  },
  {
   "cell_type": "code",
   "execution_count": 26,
   "metadata": {},
   "outputs": [
    {
     "name": "stdout",
     "output_type": "stream",
     "text": [
      "O salário final do vendedor: Anninha é de R$: 1075.0\n"
     ]
    }
   ],
   "source": [
    "nome = str(input(\"Informe o nome do vendedor: \"))\n",
    "salario = float(input(\"Informe o salário fixo do vendedor: \"))\n",
    "total_vendas = float(input(\"Informe o total de vendas do vendedor: \"))\n",
    "\n",
    "comissao = total_vendas * 0.15\n",
    "\n",
    "salario_final = salario + comissao\n",
    "\n",
    "print(\"O salário final do vendedor:\", nome, \"é de R$:\", round(salario_final, 2))\n"
   ]
  }
 ],
 "metadata": {
  "kernelspec": {
   "display_name": "Python 3",
   "language": "python",
   "name": "python3"
  },
  "language_info": {
   "codemirror_mode": {
    "name": "ipython",
    "version": 3
   },
   "file_extension": ".py",
   "mimetype": "text/x-python",
   "name": "python",
   "nbconvert_exporter": "python",
   "pygments_lexer": "ipython3",
   "version": "3.11.1"
  },
  "orig_nbformat": 4
 },
 "nbformat": 4,
 "nbformat_minor": 2
}
