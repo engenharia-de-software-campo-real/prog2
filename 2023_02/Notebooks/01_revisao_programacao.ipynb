{
 "cells": [
  {
   "attachments": {},
   "cell_type": "markdown",
   "metadata": {},
   "source": [
    "### Tarefa\n",
    "\n",
    "Dado um inteiro, ***n,*** performe as seguintes ações condicionais:\n",
    "\n",
    "- Se n é ímpar, imprima “Ímpar”\n",
    "- Se n é par e está no intervalo entre 2 e 5 (inclusive), imprima “Não Estranho”\n",
    "- Se n é par e está no intervalo entre 6 e 20 (inclusive), imprima “Estranho”\n",
    "- Se n é par e maior que 20, imprima “Não estranho”\n",
    "\n",
    "### Input\n",
    "\n",
    "Uma simples linha contendo um número inteiro\n",
    "\n",
    "### Limitações\n",
    "\n",
    "$$\n",
    "1 \\le n \\le 100\n",
    "$$"
   ]
  },
  {
   "cell_type": "code",
   "execution_count": 9,
   "metadata": {},
   "outputs": [
    {
     "name": "stdout",
     "output_type": "stream",
     "text": [
      "pedro\n"
     ]
    }
   ],
   "source": [
    "#criando uma variavel\n",
    "numero = input() #funcao input recebe um valor do usuario\n",
    "print(numero)"
   ]
  },
  {
   "cell_type": "code",
   "execution_count": 11,
   "metadata": {},
   "outputs": [
    {
     "name": "stdout",
     "output_type": "stream",
     "text": [
      "13\n"
     ]
    }
   ],
   "source": [
    "#ter certeza que o numero é um inteiro\n",
    "numero = int(input()) #uso a funcao int para transformar o input\n",
    "print(numero)"
   ]
  },
  {
   "cell_type": "code",
   "execution_count": 12,
   "metadata": {},
   "outputs": [
    {
     "name": "stdout",
     "output_type": "stream",
     "text": [
      "pedro\n"
     ]
    }
   ],
   "source": [
    "#exemplo de entradas - string\n",
    "nome = str(input())\n",
    "print(nome)"
   ]
  },
  {
   "cell_type": "code",
   "execution_count": 13,
   "metadata": {},
   "outputs": [
    {
     "name": "stdout",
     "output_type": "stream",
     "text": [
      "1.0\n"
     ]
    }
   ],
   "source": [
    "# float\n",
    "numero_decimal = float(input())\n",
    "print(numero_decimal)"
   ]
  },
  {
   "cell_type": "code",
   "execution_count": 16,
   "metadata": {},
   "outputs": [
    {
     "name": "stdout",
     "output_type": "stream",
     "text": [
      "157\n",
      "1\n"
     ]
    }
   ],
   "source": [
    "#ter certeza que o numero é um inteiro\n",
    "numero = int(input(\"Digite um numero inteiro: \"))\n",
    "\n",
    "print(numero) # imprimo o numero\n",
    "\n",
    "resultado_divisao = numero % 2 #uso operador para pegar o resto\n",
    "\n",
    "print(resultado_divisao) #imprimo o resultado"
   ]
  },
  {
   "cell_type": "code",
   "execution_count": 20,
   "metadata": {},
   "outputs": [
    {
     "name": "stdout",
     "output_type": "stream",
     "text": [
      "15\n",
      "1\n",
      "impar\n"
     ]
    }
   ],
   "source": [
    "#ter certeza que o numero é um inteiro\n",
    "numero = int(input(\"Digite um numero inteiro: \"))\n",
    "\n",
    "print(numero) # imprimo o numero\n",
    "\n",
    "resultado_divisao = numero % 2\n",
    "print(resultado_divisao) \n",
    "\n",
    "# crio uma condicao - resolucao do primeiro item\n",
    "if (resultado_divisao):\n",
    "    print(\"impar\")\n",
    "else:\n",
    "    print(\"par\")"
   ]
  },
  {
   "cell_type": "code",
   "execution_count": 19,
   "metadata": {},
   "outputs": [
    {
     "name": "stdout",
     "output_type": "stream",
     "text": [
      "1\n"
     ]
    }
   ],
   "source": [
    "print(resultado_divisao)\n",
    "print(resultado_divisao == 1)"
   ]
  },
  {
   "cell_type": "code",
   "execution_count": null,
   "metadata": {},
   "outputs": [],
   "source": [
    "#ter certeza que o numero é um inteiro\n",
    "numero = int(input(\"Digite um numero inteiro: \"))\n",
    "\n",
    "print(numero) # imprimo o numero\n",
    "\n",
    "resultado_divisao = numero % 2\n",
    "print(resultado_divisao) \n",
    "\n",
    "# crio uma condicao - resolucao do segundo item\n",
    "if (resultado_divisao):\n",
    "    print(\"impar\")\n",
    "else:\n",
    "    if(numero <= 5 and numero >= 2):\n",
    "        print(\"Não Estranho\")\n"
   ]
  },
  {
   "cell_type": "code",
   "execution_count": null,
   "metadata": {},
   "outputs": [],
   "source": [
    "numero = 0 \n",
    "# condicao invalida numero < 1 or numero > 100\n",
    "while numero < 1 or numero > 100:\n",
    "  numero = int(input(\"Digite um numero inteiro: \"))\n",
    "\n",
    "resultado_divisao = numero % 2\n",
    "\n",
    "# crio uma condicao - resolucao do segundo item\n",
    "if (resultado_divisao == 1):\n",
    "    print(\"impar\")\n",
    "else:\n",
    "  if(numero <= 5 and numero >= 2):\n",
    "    print(\"Não Estranho\")\n",
    "\n",
    "  elif(numero <= 20 and numero >= 6):\n",
    "    print(\"Estranho\")\n",
    "\n",
    "  else:\n",
    "    print(\"Nao Estranho\") "
   ]
  },
  {
   "cell_type": "code",
   "execution_count": null,
   "metadata": {},
   "outputs": [],
   "source": [
    "nota_a = 10\n",
    "nota_b = 20\n",
    "\n",
    "\n",
    "\n"
   ]
  }
 ],
 "metadata": {
  "kernelspec": {
   "display_name": "Python 3",
   "language": "python",
   "name": "python3"
  },
  "language_info": {
   "codemirror_mode": {
    "name": "ipython",
    "version": 3
   },
   "file_extension": ".py",
   "mimetype": "text/x-python",
   "name": "python",
   "nbconvert_exporter": "python",
   "pygments_lexer": "ipython3",
   "version": "3.11.2"
  },
  "orig_nbformat": 4
 },
 "nbformat": 4,
 "nbformat_minor": 2
}
