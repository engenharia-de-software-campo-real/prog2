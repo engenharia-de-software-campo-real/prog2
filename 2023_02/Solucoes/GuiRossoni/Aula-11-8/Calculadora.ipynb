{
 "cells": [
  {
   "cell_type": "code",
   "execution_count": 7,
   "metadata": {},
   "outputs": [
    {
     "name": "stdout",
     "output_type": "stream",
     "text": [
      "30\n"
     ]
    }
   ],
   "source": [
    "op = input(\"Informe a operação desejada: +, -, *, / \")\n",
    "A = int(input(\"Digite o primeiro número: \"))\n",
    "B = int(input(\"Digite o segundo número: \"))\n",
    "\n",
    "def calculadora(A, B, op):\n",
    "    \n",
    "    if op == \"+\":\n",
    "        return A + B\n",
    "    \n",
    "    elif op == \"-\":\n",
    "        return A - B\n",
    "    \n",
    "    elif op == \"*\":\n",
    "        return A * B\n",
    "    \n",
    "    elif op == \"/\":\n",
    "        return A / B\n",
    "    \n",
    "    else:\n",
    "        return \"Operação inválida!\"\n",
    "    \n",
    "print(calculadora(A, B, op))"
   ]
  }
 ],
 "metadata": {
  "kernelspec": {
   "display_name": "Python 3",
   "language": "python",
   "name": "python3"
  },
  "language_info": {
   "codemirror_mode": {
    "name": "ipython",
    "version": 3
   },
   "file_extension": ".py",
   "mimetype": "text/x-python",
   "name": "python",
   "nbconvert_exporter": "python",
   "pygments_lexer": "ipython3",
   "version": "3.11.1"
  },
  "orig_nbformat": 4
 },
 "nbformat": 4,
 "nbformat_minor": 2
}
