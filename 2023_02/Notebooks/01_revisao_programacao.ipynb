{
 "cells": [
  {
   "attachments": {},
   "cell_type": "markdown",
   "metadata": {},
   "source": [
    "### Tarefa\n",
    "\n",
    "Dado um inteiro, ***n,*** performe as seguintes ações condicionais:\n",
    "\n",
    "- Se n é ímpar, imprima “Ímpar”\n",
    "- Se n é par e está no intervalo entre 2 e 5 (inclusive), imprima “Não Estranho”\n",
    "- Se n é par e está no intervalo entre 6 e 20 (inclusive), imprima “Estranho”\n",
    "- Se n é par e maior que 20, imprima “Não estranho”\n",
    "\n",
    "### Input\n",
    "\n",
    "Uma simples linha contendo um número inteiro\n",
    "\n",
    "### Limitações\n",
    "\n",
    "$$\n",
    "1 \\le n \\le 100\n",
    "$$"
   ]
  },
  {
   "cell_type": "code",
   "execution_count": 4,
   "metadata": {},
   "outputs": [
    {
     "name": "stdout",
     "output_type": "stream",
     "text": [
      "1\n"
     ]
    }
   ],
   "source": [
    "#criando uma variável\n",
    "\n",
    "numero = input() #função imput recebe um valor do usuario\n",
    "print(numero) #"
   ]
  },
  {
   "cell_type": "code",
   "execution_count": null,
   "metadata": {},
   "outputs": [],
   "source": [
    "#criando uma variável\n",
    "\n",
    "numero = int(input()) #função int(imput recebe um valor do usuario transformar o input em numero\n",
    "print(numero) #"
   ]
  },
  {
   "cell_type": "code",
   "execution_count": null,
   "metadata": {},
   "outputs": [],
   "source": [
    "#criando uma variável\n",
    "\n",
    "nome = str(input()) #função int(imput recebe um valor do usuario transformar o input em numero\n",
    "idade = int(input())\n",
    "altura = float(input())\n",
    "\n",
    "print(nome)\n",
    "print(idade)\n",
    "print(altura)"
   ]
  },
  {
   "cell_type": "code",
   "execution_count": 6,
   "metadata": {},
   "outputs": [
    {
     "name": "stdout",
     "output_type": "stream",
     "text": [
      "4\n",
      "0\n",
      "Par\n"
     ]
    }
   ],
   "source": [
    "numero = int(input(\"Informe um numero: \")) #recebe o numero\n",
    "print(numero) \n",
    "\n",
    "resultado_divisao = numero % 2 #realiza a verificacao do numero \n",
    "print(resultado_divisao)\n",
    "\n",
    "if (resultado_divisao == 0):\n",
    "    print(\"Par\") \n",
    "\n",
    "else:\n",
    "    print(\"Impar\")"
   ]
  },
  {
   "cell_type": "code",
   "execution_count": 7,
   "metadata": {},
   "outputs": [
    {
     "name": "stdout",
     "output_type": "stream",
     "text": [
      "6\n",
      "0\n",
      "Nao Estranho\n",
      "Estranho\n",
      "Impar\n"
     ]
    }
   ],
   "source": [
    "numero = int(input(\"Informe um numero: \")) #recebe o numero\n",
    "print(numero) \n",
    "\n",
    "resultado_divisao = numero % 2 #realiza a verificacao do numero \n",
    "print(resultado_divisao)\n",
    "\n",
    "if (resultado_divisao == 0 and (resultado_divisao >=2 or resultado_divisao <=5)):\n",
    "    print(\"Nao Estranho\") \n",
    "\n",
    "else:\n",
    "    print(\"Impar\")\n"
   ]
  }
 ],
 "metadata": {
  "kernelspec": {
   "display_name": "Python 3",
   "language": "python",
   "name": "python3"
  },
  "language_info": {
   "codemirror_mode": {
    "name": "ipython",
    "version": 3
   },
   "file_extension": ".py",
   "mimetype": "text/x-python",
   "name": "python",
   "nbconvert_exporter": "python",
   "pygments_lexer": "ipython3",
   "version": "3.9.13"
  },
  "orig_nbformat": 4
 },
 "nbformat": 4,
 "nbformat_minor": 2
}
