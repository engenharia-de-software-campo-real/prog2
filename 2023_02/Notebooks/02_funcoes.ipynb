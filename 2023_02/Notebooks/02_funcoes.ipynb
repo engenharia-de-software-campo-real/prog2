{
 "cells": [
  {
   "cell_type": "code",
   "execution_count": null,
   "metadata": {},
   "outputs": [],
   "source": [
    "# como trabalhar com funcoes\n",
    "\n",
    "print()\n",
    "input()\n",
    "\n",
    "round(numero, numero_de_casas_decimais)\n",
    "\n"
   ]
  },
  {
   "cell_type": "code",
   "execution_count": 1,
   "metadata": {},
   "outputs": [
    {
     "data": {
      "text/plain": [
       "329283.298"
      ]
     },
     "execution_count": 1,
     "metadata": {},
     "output_type": "execute_result"
    }
   ],
   "source": [
    "# definidas por mim\n",
    "numero = 329283.2976916984736187461\n",
    "# definidas por mim tambem\n",
    "quantas_casa_decimais = 3\n",
    "\n",
    "#transformar o numero com varias casas decimais em um determinado por mim\n",
    "\n",
    "round(numero, quantas_casa_decimais)"
   ]
  },
  {
   "cell_type": "code",
   "execution_count": 2,
   "metadata": {},
   "outputs": [
    {
     "data": {
      "text/plain": [
       "329283.298"
      ]
     },
     "execution_count": 2,
     "metadata": {},
     "output_type": "execute_result"
    }
   ],
   "source": [
    "round(329283.2976916984736187461, 3)"
   ]
  },
  {
   "cell_type": "code",
   "execution_count": 6,
   "metadata": {},
   "outputs": [],
   "source": [
    "# como eu crio uma funcao\n",
    "def funcao_que_soma_dois_numeros(numero_a, numero_b):\n",
    "    soma_dos_numeros = numero_a + numero_b\n",
    "    return soma_dos_numeros    "
   ]
  },
  {
   "cell_type": "code",
   "execution_count": 7,
   "metadata": {},
   "outputs": [
    {
     "data": {
      "text/plain": [
       "8"
      ]
     },
     "execution_count": 7,
     "metadata": {},
     "output_type": "execute_result"
    }
   ],
   "source": [
    "# definir uma funcao que recebe como parametro uma string que 'e o nome\n",
    "# de uma pessoa e tambem sua funcao\n",
    "# e imprima uma saudacao com o nome e a funcao concatenadas"
   ]
  },
  {
   "cell_type": "code",
   "execution_count": 9,
   "metadata": {},
   "outputs": [
    {
     "name": "stdout",
     "output_type": "stream",
     "text": [
      "professor pedro\n"
     ]
    }
   ],
   "source": [
    "string_a = \"professor\"\n",
    "string_b = \"pedro\"\n",
    "\n",
    "concatenado = string_a + \" \" + string_b\n",
    "\n",
    "print(concatenado)"
   ]
  },
  {
   "cell_type": "code",
   "execution_count": 10,
   "metadata": {},
   "outputs": [],
   "source": [
    "def saudacao(nome_da_pessoa, funcao):\n",
    "\n",
    "    print(\"Olá \" + nome_da_pessoa + \" voce eh um \" + funcao)"
   ]
  },
  {
   "cell_type": "code",
   "execution_count": 11,
   "metadata": {},
   "outputs": [
    {
     "name": "stdout",
     "output_type": "stream",
     "text": [
      "Olá Pedro voce eh um professor\n"
     ]
    }
   ],
   "source": [
    "saudacao(\"Pedro\", \"professor\")"
   ]
  },
  {
   "cell_type": "code",
   "execution_count": 12,
   "metadata": {},
   "outputs": [
    {
     "name": "stdout",
     "output_type": "stream",
     "text": [
      "Olá Pedro voce eh um professor\n"
     ]
    }
   ],
   "source": [
    "nome = str(input(\"Digite o nome: \"))\n",
    "funcao = str(input(\"Digite a funcao: \"))\n",
    "\n",
    "saudacao(nome, funcao)"
   ]
  },
  {
   "cell_type": "code",
   "execution_count": 13,
   "metadata": {},
   "outputs": [],
   "source": [
    "def saudacao(nome_da_pessoa, funcao):\n",
    "\n",
    "    return \"Olá \" + nome_da_pessoa + \" voce eh um \" + funcao"
   ]
  },
  {
   "cell_type": "code",
   "execution_count": 14,
   "metadata": {},
   "outputs": [
    {
     "data": {
      "text/plain": [
       "'Olá Pedro voce eh um professor'"
      ]
     },
     "execution_count": 14,
     "metadata": {},
     "output_type": "execute_result"
    }
   ],
   "source": [
    "nome = str(input(\"Digite o nome: \"))\n",
    "funcao = str(input(\"Digite a funcao: \"))\n",
    "\n",
    "saudacao(nome, funcao)"
   ]
  },
  {
   "cell_type": "code",
   "execution_count": 15,
   "metadata": {},
   "outputs": [],
   "source": [
    "nome = str(input(\"Digite o nome: \"))\n",
    "funcao = str(input(\"Digite a funcao: \"))\n",
    "\n",
    "\n",
    "valor_da_funcao = saudacao(nome, funcao)"
   ]
  },
  {
   "cell_type": "code",
   "execution_count": 16,
   "metadata": {},
   "outputs": [
    {
     "name": "stdout",
     "output_type": "stream",
     "text": [
      "Olá Pedro voce eh um professor\n"
     ]
    }
   ],
   "source": [
    "print(valor_da_funcao)"
   ]
  },
  {
   "cell_type": "code",
   "execution_count": 17,
   "metadata": {},
   "outputs": [],
   "source": [
    "def operacao_entre_dois_numeros(primeiro_numero, segundo_numero, operacao):\n",
    "\n",
    "    if operacao == \"*\":\n",
    "        return primeiro_numero * segundo_numero\n",
    "    if operacao == \"+\":\n",
    "        return primeiro_numero + segundo_numero\n",
    "    if operacao == \"-\":\n",
    "        return primeiro_numero - segundo_numero\n",
    "    if operacao == \"/\":\n",
    "        return primeiro_numero / segundo_numero"
   ]
  },
  {
   "cell_type": "code",
   "execution_count": null,
   "metadata": {},
   "outputs": [],
   "source": [
    "def soma(primeiro_numero, segundo_numero):\n",
    "    return primeiro_numero + segundo_numero\n",
    "\n",
    "def multiplicacao(primeiro_numero, segundo_numero):\n",
    "    return primeiro_numero * segundo_numero\n",
    "\n",
    "def divisao(primeiro_numero, segundo_numero):\n",
    "    return primeiro_numero / segundo_numero\n",
    "\n",
    "def diferenca(primeiro_numero, segundo_numero):\n",
    "    return primeiro_numero - segundo_numero\n",
    "\n",
    "def operacao(a, b, op):\n",
    "    if operacao == \"*\":\n",
    "        return multiplicacao(a,b)\n",
    "    if operacao == \"+\":\n",
    "        return soma(a,b)\n",
    "    if operacao == \"-\":\n",
    "        return diferenca(a,b)\n",
    "    if operacao == \"/\":\n",
    "        return divisao(a,b)"
   ]
  },
  {
   "cell_type": "code",
   "execution_count": 18,
   "metadata": {},
   "outputs": [
    {
     "data": {
      "text/plain": [
       "0.5"
      ]
     },
     "execution_count": 18,
     "metadata": {},
     "output_type": "execute_result"
    }
   ],
   "source": [
    "a = float(input(\"Digite o primeiro numero: \"))\n",
    "b = float(input(\"Digite o segundo numero: \"))\n",
    "op = str(input(\"Digite a operacao: \"))\n",
    "\n",
    "operacao_entre_dois_numeros(a, b, op)"
   ]
  },
  {
   "cell_type": "code",
   "execution_count": 19,
   "metadata": {},
   "outputs": [],
   "source": [
    "soma = operacao_entre_dois_numeros(a, b, \"+\")\n",
    "diferenca = operacao_entre_dois_numeros(a, b, \"-\")\n",
    "multiplicacao = operacao_entre_dois_numeros(a, b, \"*\")\n",
    "divisao = operacao_entre_dois_numeros(a, b, \"/\")"
   ]
  },
  {
   "cell_type": "code",
   "execution_count": 20,
   "metadata": {},
   "outputs": [
    {
     "name": "stdout",
     "output_type": "stream",
     "text": [
      "3.0\n",
      "-1.0\n",
      "2.0\n",
      "0.5\n"
     ]
    }
   ],
   "source": [
    "print(soma)\n",
    "print(diferenca)\n",
    "print(multiplicacao)\n",
    "print(divisao)"
   ]
  },
  {
   "cell_type": "code",
   "execution_count": 21,
   "metadata": {},
   "outputs": [],
   "source": [
    "def pede_numeros_usuario():\n",
    "    a = float(input(\"Digite um numero: \"))\n",
    "    b = float(input(\"Digite outro numero: \") )\n",
    "    return a, b"
   ]
  },
  {
   "cell_type": "code",
   "execution_count": 22,
   "metadata": {},
   "outputs": [],
   "source": [
    "numero_digitado_1, numero_digitado_2 = pede_numeros_usuario()"
   ]
  },
  {
   "cell_type": "code",
   "execution_count": 23,
   "metadata": {},
   "outputs": [
    {
     "name": "stdout",
     "output_type": "stream",
     "text": [
      "1.0\n",
      "2.0\n"
     ]
    }
   ],
   "source": [
    "print(numero_digitado_1)\n",
    "print(numero_digitado_2)"
   ]
  },
  {
   "cell_type": "markdown",
   "metadata": {},
   "source": [
    "1. Definindo Funções Simples\n",
    "Escreva uma função chamada saudacao que aceite um nome como parâmetro e retorne a string \"Olá, [nome]!\".\n",
    "\n",
    "2. Funções com Operações Matemáticas\n",
    "Escreva uma função chamada multiplica que aceite dois números e retorne o produto deles.\n",
    "\n",
    "3. Funções e Estruturas de Controle\n",
    "Crie uma função chamada par_ou_impar que aceite um número e imprima se ele é par ou ímpar.\n",
    "\n",
    "4. Uso de Funções em Listas\n",
    "Escreva uma função chamada inverte_lista que aceite uma lista e retorne a mesma lista, mas invertida.\n",
    "\n",
    "5. Funções Recursivas\n",
    "Escreva uma função recursiva chamada fatorial que aceite um número e retorne seu fatorial.\n",
    "\n",
    "6. Funções com Número Variável de Argumentos\n",
    "Crie uma função chamada soma_multiplos que aceite um número variável de argumentos e retorne a soma de todos eles.\n",
    "\n",
    "7. Funções Lambda\n",
    "Usando a função lambda, crie uma função que eleve um número x à potência y.\n",
    "\n",
    "8. Funções como Parâmetro\n",
    "Escreva uma função chamada aplica_funcao que aceite uma lista e uma função como parâmetros. A função deve aplicar a função passada a todos os elementos da lista e retornar uma nova lista.\n",
    "\n",
    "9. Funções Aninhadas e Closures\n",
    "Escreva uma função fora que tenha uma função dentro aninhada. A função dentro deve imprimir uma mensagem. Então, faça a função fora retornar a função dentro.\n",
    "\n",
    "10. Decoradores\n",
    "Crie um decorador chamado log que imprima uma mensagem cada vez que a função decorada for chamada. Use-o para decorar uma função que some dois números."
   ]
  },
  {
   "cell_type": "markdown",
   "metadata": {},
   "source": []
  }
 ],
 "metadata": {
  "kernelspec": {
   "display_name": "p39",
   "language": "python",
   "name": "python3"
  },
  "language_info": {
   "codemirror_mode": {
    "name": "ipython",
    "version": 3
   },
   "file_extension": ".py",
   "mimetype": "text/x-python",
   "name": "python",
   "nbconvert_exporter": "python",
   "pygments_lexer": "ipython3",
   "version": "3.9.12"
  },
  "orig_nbformat": 4
 },
 "nbformat": 4,
 "nbformat_minor": 2
}
