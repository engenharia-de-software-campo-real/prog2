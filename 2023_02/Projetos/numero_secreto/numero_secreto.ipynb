{
 "cells": [
  {
   "cell_type": "markdown",
   "metadata": {},
   "source": [
    "## Número Secreto\n",
    "\n",
    "Em número secreto, um jogo de lógica dedutiva, você deve chutar um número secreto de três dígitos baseado em pistas. O jogo oferece as seguintes dicas para que você consiga adivinhar a resposta:\n",
    "\n",
    "- Pico : Quando seu chute tem um número correto, mas no lugar errado\n",
    "- Fermi: Quando seu chute tem um número correto, no lugar certo\n",
    "- Bagels: Quando seu chute não tem nenhum dígito correto\n",
    "\n",
    "Você tem dez tentativas para encontrar o número correto.\n",
    "\n",
    "### Explorando o programa\n",
    "\n",
    "1. O que acontece quando você muda a constante NUM_DIGITS?\n",
    "2. O que acontece quando você muda a constante MAX_GUESSES?\n",
    "3. O que acontece se você seta NUM_DIGITS para um número maior do que 10?\n",
    "4. O que acontece se você substitui secretNum = getSecretNum() com um secretNum = '123'?\n",
    "5. Qual erro você encontra se deletar ou comentar numGuesses = 1?\n",
    "6. O que acontece se você deletar ou comentar random.shuffle(numbers)?\n",
    "7. O que acontece se você comenta a linha numGuesses += 1 ?"
   ]
  },
  {
   "cell_type": "code",
   "execution_count": 1,
   "metadata": {},
   "outputs": [],
   "source": [
<<<<<<< HEAD:2023_02/Projetos/numero_secreto.ipynb
=======
    "\n",
>>>>>>> ebaba232b74206ce944fdfa54e8e134b47487dce:2023_02/Projetos/numero_secreto/numero_secreto.ipynb
    "import random\n",
    "\n",
    "NUM_DIGITS = 3\n",
    "MAX_GUESSES = 10 \n",
    "\n",
    "def main():\n",
    "    print(''' \n",
    "          Número Secreto é um jogo de Adivinhação!\n",
    "          \n",
    "          Estou pensando em um número com {} dígitos com números não repetidos. \n",
    "          Tente adivinhar qual é o número. Aqui vão algumas dicas:\n",
    "          Quando eu digo:   Isso significa:\n",
    "          Pico              Um dígito está correto mas na posição errada\n",
    "          Fermi             Um dígito está correto e na posição correta\n",
    "          Bagels            Nenhum dígito está correto\n",
    "\n",
    "          Por exemplo, se o número secreto for 248 e seu chute for 843, a dica será\n",
    "          Fermi Pico.\n",
    "'''.format(NUM_DIGITS))\n",
    "    \n",
    "if __name__ == '__main__':\n",
    "    main()"
   ]
  },
  {
   "cell_type": "code",
   "execution_count": 2,
   "metadata": {},
   "outputs": [
    {
     "name": "stdout",
     "output_type": "stream",
     "text": [
      " \n",
      "          Número Secreto é um jogo de Adivinhação!\n",
      "          \n",
      "          Estou pensando em um número com 3 dígitos com números não repetidos. \n",
      "          Tente adivinhar qual é o número. Aqui vão algumas dicas:\n",
      "          Quando eu digo:   Isso significa:\n",
      "          Pico              Um dígito está correto mas na posição errada\n",
      "          Fermi             Um dígito está correto e na posição correta\n",
      "          Bagels            Nenhum dígito está correto\n",
      "\n",
      "          Por exemplo, se o número secreto for 248 e seu chute for 843, a dica será\n",
      "          Fermi Pico.\n",
      "\n"
     ]
    }
   ],
   "source": [
    "main()"
   ]
  },
  {
   "cell_type": "code",
   "execution_count": null,
   "metadata": {},
   "outputs": [],
   "source": []
  }
 ],
 "metadata": {
  "kernelspec": {
   "display_name": "Python 3",
   "language": "python",
   "name": "python3"
  },
  "language_info": {
   "codemirror_mode": {
    "name": "ipython",
    "version": 3
   },
   "file_extension": ".py",
   "mimetype": "text/x-python",
   "name": "python",
   "nbconvert_exporter": "python",
   "pygments_lexer": "ipython3",
   "version": "3.11.4"
  },
  "orig_nbformat": 4
 },
 "nbformat": 4,
 "nbformat_minor": 2
}
