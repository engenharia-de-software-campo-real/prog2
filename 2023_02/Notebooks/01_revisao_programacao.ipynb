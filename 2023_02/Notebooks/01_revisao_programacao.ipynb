{
 "cells": [
  {
   "attachments": {},
   "cell_type": "markdown",
   "metadata": {},
   "source": [
    "### Tarefa\n",
    "\n",
    "Dado um inteiro, ***n,*** performe as seguintes ações condicionais:\n",
    "\n",
    "- Se n é ímpar, imprima “Ímpar”\n",
    "- Se n é par e está no intervalo entre 2 e 5 (inclusive), imprima “Não Estranho”\n",
    "- Se n é par e está no intervalo entre 6 e 20 (inclusive), imprima “Estranho”\n",
    "- Se n é par e maior que 20, imprima “Não estranho”\n",
    "\n",
    "### Input\n",
    "\n",
    "Uma simples linha contendo um número inteiro\n",
    "\n",
    "### Limitações\n",
    "\n",
    "$$\n",
    "1 \\le n \\le 100\n",
    "$$\n",
    "\n",
    "Se você fez no computador, envie seu arquivo para o email: prof_pedrofilho@camporeal.edu.br com o assunto [ATIVIDADE 01 - PROG2]"
   ]
  },
  {
   "cell_type": "code",
   "execution_count": 3,
   "metadata": {},
   "outputs": [
    {
     "name": "stdout",
     "output_type": "stream",
     "text": [
      "hgenrique\n"
     ]
    }
   ],
   "source": [
    "#criando uma variavel \n",
    "numero = input() #funcao input recebe um valor do usuario\n",
    "print(numero)"
   ]
  },
  {
   "cell_type": "code",
   "execution_count": 6,
   "metadata": {},
   "outputs": [
    {
     "name": "stdout",
     "output_type": "stream",
     "text": [
      "15\n",
      "5\n"
     ]
    }
   ],
   "source": [
    "#ter certeza que o numero é um numero inteiro \n",
    "numero = int(input()) #uso a funcao para transformar o input em numero\n",
    "print(numero)\n",
    "\n",
    "#string\n",
    "caracter = str(input()) #uso a funcao para transformar o input em caracter\n",
    "print(caracter)\n",
    "\n",
    "#float\n",
    "numero_que = float(input()) #uso a funcao para transformar o input em numeros decimais\n",
    "print(numero_que)\n"
   ]
  },
  {
   "cell_type": "code",
   "execution_count": 15,
   "metadata": {},
   "outputs": [
    {
     "name": "stdout",
     "output_type": "stream",
     "text": [
      "4\n",
      "0\n",
      "não estranho\n"
     ]
    }
   ],
   "source": [
    "#ter certeza que o valor é numero\n",
    "numero = int(input()) #uso a funcao para transformar o input em numero\n",
    "print(numero)\n",
    "\n",
    "resultado_divisao = numero % 2\n",
    "\n",
    "print (resultado_divisao) #imprimo o resto da divisão\n",
    "\n",
    "if (resultado_divisao):\n",
    "    print(\"impar\")\n",
    "\n",
    "else:\n",
    "    if(numero <= 5 and numero >= 2):\n",
    "        print(\"não estranho\")\n",
    "\n"
   ]
  },
  {
   "cell_type": "code",
   "execution_count": null,
   "metadata": {},
   "outputs": [],
   "source": []
  }
 ],
 "metadata": {
  "kernelspec": {
   "display_name": "Python 3",
   "language": "python",
   "name": "python3"
  },
  "language_info": {
   "codemirror_mode": {
    "name": "ipython",
    "version": 3
   },
   "file_extension": ".py",
   "mimetype": "text/x-python",
   "name": "python",
   "nbconvert_exporter": "python",
   "pygments_lexer": "ipython3",
   "version": "3.9.13"
  },
  "orig_nbformat": 4
 },
 "nbformat": 4,
 "nbformat_minor": 2
}
